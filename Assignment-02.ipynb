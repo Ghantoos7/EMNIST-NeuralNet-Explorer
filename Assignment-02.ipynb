{
 "cells": [
  {
   "cell_type": "markdown",
   "metadata": {},
   "source": []
  },
  {
   "cell_type": "code",
   "execution_count": 10,
   "metadata": {},
   "outputs": [],
   "source": [
    "import numpy as np\n",
    "import sys\n",
    "from keras.models import Sequential\n",
    "from keras.layers import Dense, Activation\n",
    "from tensorflow.python.keras.utils import np_utils\n",
    "from keras.optimizers import SGD\n",
    "from keras.datasets import mnist\n",
    "import pandas as pd\n",
    "np.random.seed(42)  \n"
   ]
  },
  {
   "cell_type": "code",
   "execution_count": 11,
   "metadata": {},
   "outputs": [],
   "source": [
    "\n",
    "DEFAULT_LEARNING_RATE = 0.01\n",
    "DEFAULT_NUMBER_HIDDEN = 2\n",
    "DEFAULT_BATCH_SIZE = 32\n",
    "scores = {}\n"
   ]
  },
  {
   "cell_type": "code",
   "execution_count": 12,
   "metadata": {},
   "outputs": [],
   "source": [
    "(X_train_1, train_labels_1), (X_test, test_labels_1) = mnist.load_data()"
   ]
  },
  {
   "cell_type": "code",
   "execution_count": 13,
   "metadata": {},
   "outputs": [],
   "source": [
    "# Load pre-shuffled MNIST data into train and test sets\n",
    "X_train_1 = X_train_1.reshape(60000, 784)\n",
    "X_test = X_test.reshape(10000, 784)\n",
    "X_train_1 = X_train_1.astype('float32')\n",
    "X_test = X_test.astype('float32')"
   ]
  },
  {
   "cell_type": "code",
   "execution_count": 14,
   "metadata": {},
   "outputs": [],
   "source": [
    "# Preprocess input data\n",
    "X_train_1 /= 255\n",
    "X_test /= 255"
   ]
  },
  {
   "cell_type": "code",
   "execution_count": 15,
   "metadata": {},
   "outputs": [
    {
     "name": "stdout",
     "output_type": "stream",
     "text": [
      "50000 train samples\n",
      "10000 validation samples\n"
     ]
    }
   ],
   "source": [
    "# Divides the dataset into train and validation sets\n",
    "X_valid = X_train_1[50000:60000]\n",
    "X_train = X_train_1[:50000]\n",
    "print(X_train.shape[0], 'train samples')\n",
    "print(X_valid.shape[0], 'validation samples')"
   ]
  },
  {
   "cell_type": "code",
   "execution_count": 16,
   "metadata": {},
   "outputs": [],
   "source": [
    "# Preprocess class labels\n",
    "train_labels = np_utils.to_categorical(train_labels_1, 10)\n",
    "test_labels = np_utils.to_categorical(test_labels_1, 10)\n",
    "valid_labels = train_labels[50000:60000]\n",
    "train_labels = train_labels[:50000]"
   ]
  },
  {
   "cell_type": "code",
   "execution_count": 17,
   "metadata": {},
   "outputs": [],
   "source": [
    "model = Sequential()\n",
    "\n",
    "model.add(Dense(64, input_dim=784))\n",
    "model.add(Activation('relu'))\n",
    "\n",
    "model.add(Dense(64))\n",
    "model.add(Activation('relu'))\n",
    "\n",
    "model.add(Dense(10))\n",
    "model.add(Activation('softmax'))"
   ]
  },
  {
   "cell_type": "code",
   "execution_count": 18,
   "metadata": {},
   "outputs": [
    {
     "name": "stderr",
     "output_type": "stream",
     "text": [
      "WARNING:absl:`lr` is deprecated in Keras optimizer, please use `learning_rate` or use the legacy optimizer, e.g.,tf.keras.optimizers.legacy.SGD.\n"
     ]
    },
    {
     "name": "stdout",
     "output_type": "stream",
     "text": [
      "Epoch 1/5\n",
      " 2037/50000 [>.............................] - ETA: 1:20 - loss: 0.8357 - accuracy: 0.7369"
     ]
    }
   ],
   "source": [
    "for batch_num in [1,2,4,8,16,32,64,128]: \n",
    "               \n",
    "    model.compile(loss='categorical_crossentropy', optimizer=SGD(lr=DEFAULT_LEARNING_RATE), metrics=['accuracy'])\n",
    "    model.fit(X_train, train_labels, epochs= 5, batch_size=batch_num, verbose=1, validation_data=(X_valid, valid_labels))\n",
    "    score = model.evaluate(X_test, test_labels, batch_size=batch_num, verbose=1)\n",
    "    scores[(batch_num,DEFAULT_NUMBER_HIDDEN,DEFAULT_LEARNING_RATE)] = (score[1],score[0])\n",
    "\n",
    "for hidden_num in [1,2,4,8,16,32,64,128]:\n",
    "    model.compile(loss='categorical_crossentropy', optimizer=SGD(lr=DEFAULT_LEARNING_RATE), metrics=['accuracy'])\n",
    "    model.fit(X_train, train_labels, epochs= 5, batch_size=DEFAULT_BATCH_SIZE, verbose=1, validation_data=(X_valid, valid_labels))\n",
    "    score = model.evaluate(X_test, test_labels, batch_size=DEFAULT_BATCH_SIZE, verbose=1)\n",
    "    scores[(DEFAULT_BATCH_SIZE,hidden_num,DEFAULT_LEARNING_RATE)] = (score[1],score[0])\n",
    "\n",
    "\n",
    "for learning_r in [0.0001,0.001,0.01,0.1,1]:\n",
    "\n",
    "    model.compile(loss='categorical_crossentropy', optimizer=SGD(learning_rate=learning_r), metrics=['accuracy'])\n",
    "    model.fit(X_train, train_labels, epochs= 5, batch_size=DEFAULT_BATCH_SIZE, verbose=1, validation_data=(X_valid, valid_labels))\n",
    "    score = model.evaluate(X_test, test_labels, batch_size=DEFAULT_BATCH_SIZE, verbose=1)\n",
    "    scores[(DEFAULT_BATCH_SIZE,DEFAULT_NUMBER_HIDDEN,learning_rate)] = (score[1],score[0])\n",
    "\n",
    "np.save('scores.npy', scores)\n",
    "\n",
    "df = pd.DataFrame.from_dict(scores, orient='index')\n",
    "df.to_excel('results.xlsx')\n",
    "\n"
   ]
  }
 ],
 "metadata": {
  "kernelspec": {
   "display_name": "Python 3",
   "language": "python",
   "name": "python3"
  },
  "language_info": {
   "codemirror_mode": {
    "name": "ipython",
    "version": 3
   },
   "file_extension": ".py",
   "mimetype": "text/x-python",
   "name": "python",
   "nbconvert_exporter": "python",
   "pygments_lexer": "ipython3",
   "version": "3.9.13"
  }
 },
 "nbformat": 4,
 "nbformat_minor": 2
}
